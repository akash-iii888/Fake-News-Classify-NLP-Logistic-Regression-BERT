{
  "cells": [
    {
      "cell_type": "code",
      "execution_count": null,
      "metadata": {
        "id": "wtcwhSVeuo1b"
      },
      "outputs": [],
      "source": [
        "import pandas as pd\n",
        "import numpy as np\n",
        "import re\n",
        "import string\n",
        "from sklearn.model_selection import train_test_split\n",
        "from sklearn.linear_model import LogisticRegression\n",
        "from sklearn.metrics import accuracy_score, classification_report\n",
        "import matplotlib.pyplot as plt\n",
        "import seaborn as sns\n"
      ]
    },
    {
      "cell_type": "markdown",
      "metadata": {
        "id": "eZ-UYSTNoj3X"
      },
      "source": [
        "Transformers and NLP\n"
      ]
    },
    {
      "cell_type": "code",
      "execution_count": null,
      "metadata": {
        "id": "yIEz9AYRohLs"
      },
      "outputs": [],
      "source": [
        "import torch\n",
        "from transformers import BertTokenizer, BertForSequenceClassification\n",
        "from transformers import Trainer, TrainingArguments\n",
        "from torch.utils.data import Dataset, DataLoader\n"
      ]
    },
    {
      "cell_type": "markdown",
      "metadata": {
        "id": "1wqURcyVsBBF"
      },
      "source": [
        "Loading Dataset and labeling them for real and fake news"
      ]
    },
    {
      "cell_type": "code",
      "execution_count": null,
      "metadata": {
        "id": "cE3GOcZXouHd"
      },
      "outputs": [],
      "source": [
        "df = pd.read_csv(\"/content/Fake.csv\")\n",
        "df = df[['title', 'text']].dropna()\n",
        "df['label'] = 0  #For Fake news\n",
        "\n",
        "true_df = pd.read_csv(\"/content/True.csv\")\n",
        "true_df = true_df[['title', 'text']].dropna()\n",
        "true_df['label'] = 1  #For Real news\n"
      ]
    },
    {
      "cell_type": "markdown",
      "metadata": {
        "id": "WGjzCg1Qr4k6"
      },
      "source": [
        "TO Combine both files"
      ]
    },
    {
      "cell_type": "code",
      "execution_count": null,
      "metadata": {
        "id": "BnduUnP6r2ka"
      },
      "outputs": [],
      "source": [
        "news_df = pd.concat([df, true_df]).sample(frac=1).reset_index(drop=True)"
      ]
    },
    {
      "cell_type": "markdown",
      "metadata": {
        "id": "RwKkpojRsox7"
      },
      "source": [
        "Preprocessing Function"
      ]
    },
    {
      "cell_type": "code",
      "execution_count": null,
      "metadata": {
        "id": "wvx1nPprr-RB"
      },
      "outputs": [],
      "source": [
        "def clean_text(text):\n",
        "    text = text.lower()\n",
        "    text = re.sub(\"\\[.*?\\]\", \"\", text)\n",
        "    text = re.sub(\"[%s]\" % re.escape(string.punctuation), \"\", text)\n",
        "    text = re.sub(\"\\w*\\d\\w*\", \"\", text)\n",
        "    text = re.sub(\"\\s+\", \" \", text).strip()\n",
        "    return text\n",
        "\n",
        "news_df['clean_text'] = news_df['text'].apply(clean_text)"
      ]
    },
    {
      "cell_type": "code",
      "execution_count": null,
      "metadata": {
        "id": "Wj0ifTd2sjOx"
      },
      "outputs": [],
      "source": [
        "from sklearn.feature_extraction.text import TfidfVectorizer\n",
        "vectorizer = TfidfVectorizer(max_features=5000)\n",
        "X = vectorizer.fit_transform(news_df['clean_text'])\n",
        "y = news_df['label']\n",
        "\n",
        "X_train, X_test, y_train, y_test = train_test_split(X, y, test_size=0.2, stratify=y)\n",
        "\n",
        "lr = LogisticRegression()\n",
        "lr.fit(X_train, y_train)\n",
        "y_pred = lr.predict(X_test)\n",
        "\n",
        "print(\"Logistic Regression Accuracy:\", accuracy_score(y_test, y_pred))\n",
        "print(classification_report(y_test, y_pred))\n"
      ]
    },
    {
      "cell_type": "code",
      "execution_count": null,
      "metadata": {
        "id": "XA3rTQQwtIjw"
      },
      "outputs": [],
      "source": [
        "from sklearn.metrics import confusion_matrix, ConfusionMatrixDisplay\n",
        "import matplotlib.pyplot as plt\n",
        "\n",
        "cm = confusion_matrix(y_test, y_pred)\n",
        "display1 = ConfusionMatrixDisplay(confusion_matrix = cm, display_labels =['Fake', 'True'])\n",
        "display1.plot(cmap = plt.cm.Blues)\n",
        "plt.title(\"LOGISTIC REGRESSION CONFUSION MATRIX\")\n",
        "plt.show()\n"
      ]
    },
    {
      "cell_type": "markdown",
      "metadata": {
        "id": "1LT8hCxE4vPI"
      },
      "source": []
    },
    {
      "cell_type": "code",
      "execution_count": null,
      "metadata": {
        "id": "Jy9u3rdsyNN3"
      },
      "outputs": [],
      "source": [
        "!pip install lime"
      ]
    },
    {
      "cell_type": "markdown",
      "metadata": {
        "id": "Ik50nm8y5L7o"
      },
      "source": [
        "For Explainability"
      ]
    },
    {
      "cell_type": "code",
      "execution_count": null,
      "metadata": {
        "id": "EsKWQ3lg4t62"
      },
      "outputs": [],
      "source": [
        "import shap\n",
        "from lime.lime_text import LimeTextExplainer"
      ]
    },
    {
      "cell_type": "markdown",
      "metadata": {
        "id": "Ty3WryIv9IDq"
      },
      "source": [
        "Fine Tuning"
      ]
    },
    {
      "cell_type": "code",
      "execution_count": null,
      "metadata": {
        "id": "8RdV0n9l5CWx"
      },
      "outputs": [],
      "source": [
        "class NewsDataset(Dataset):\n",
        "    def __init__(self, texts, labels, tokenizer, max_len):\n",
        "        self.texts = texts\n",
        "        self.labels = labels\n",
        "        self.tokenizer = tokenizer\n",
        "        self.max_len = max_len\n",
        "\n",
        "    def __len__(self):\n",
        "        return len(self.texts)\n",
        "\n",
        "    def __getitem__(self, idx):\n",
        "        text = str(self.texts[idx])\n",
        "        label = self.labels[idx]\n",
        "        encoding = self.tokenizer(\n",
        "            text,\n",
        "            truncation=True,\n",
        "            padding='max_length',\n",
        "            max_length=self.max_len,\n",
        "            return_tensors='pt'\n",
        "        )\n",
        "        return {\n",
        "            'input_ids': encoding['input_ids'].flatten(),\n",
        "            'attention_mask': encoding['attention_mask'].flatten(),\n",
        "            'labels': torch.tensor(label, dtype=torch.long)\n",
        "        }"
      ]
    },
    {
      "cell_type": "code",
      "execution_count": null,
      "metadata": {
        "id": "APbXMF6O9QI_"
      },
      "outputs": [],
      "source": [
        "tokenizer = BertTokenizer.from_pretrained('bert-base-uncased')\n",
        "MAX_LEN = 64\n",
        "train_texts, test_texts, train_labels, test_labels = train_test_split(news_df['clean_text'], news_df['label'], test_size=0.2)\n",
        "\n",
        "train_dataset = NewsDataset(train_texts.tolist(), train_labels.tolist(), tokenizer, MAX_LEN)\n",
        "test_dataset = NewsDataset(test_texts.tolist(), test_labels.tolist(), tokenizer, MAX_LEN)\n",
        "\n",
        "model = BertForSequenceClassification.from_pretrained(\"bert-base-uncased\")\n",
        "\n",
        "training_args = TrainingArguments(\n",
        "    output_dir='./results',\n",
        "    num_train_epochs=1,\n",
        "    per_device_train_batch_size=8,\n",
        "    per_device_eval_batch_size=8,\n",
        "    eval_steps=10000,\n",
        "    logging_dir='./logs',\n",
        "    logging_steps=1000,\n",
        "    save_steps=10000,\n",
        "    report_to=\"none\"\n",
        ")\n",
        "\n",
        "trainer = Trainer(\n",
        "    model=model,\n",
        "    args=training_args,\n",
        "    train_dataset=train_dataset,\n",
        "    eval_dataset=test_dataset\n",
        ")\n",
        "\n",
        "trainer.train()"
      ]
    },
    {
      "cell_type": "code",
      "execution_count": null,
      "metadata": {
        "id": "PLuMS5P8BAE9"
      },
      "outputs": [],
      "source": [
        "\n",
        "class_names = ['Fake', 'Real']\n",
        "explainer = LimeTextExplainer(class_names=class_names)\n",
        "\n",
        "def predict_proba(texts):\n",
        "    X_vec = vectorizer.transform(texts)\n",
        "    return np.column_stack((1 - lr.predict_proba(X_vec)[:,1], lr.predict_proba(X_vec)[:,1]))\n",
        "\n",
        "exp = explainer.explain_instance(news_df['clean_text'].iloc[1], predict_proba, num_features=5)\n",
        "exp.show_in_notebook()\n"
      ]
    },
    {
      "cell_type": "code",
      "execution_count": null,
      "metadata": {
        "id": "I0zjwK_NOnVf"
      },
      "outputs": [],
      "source": [
        "sample_text = \"Breaking: The prime minister launches a new AI initiative.\"\n",
        "probs = predict_proba([sample_text])[0]\n",
        "label = \"Real\" if probs[1] > 0.5 else \"Fake\"\n",
        "print(f\"Prediction: {label}\")\n",
        "print(f\"Probability - Fake: {probs[0]:.2f}, Real: {probs[1]:.2f}\")"
      ]
    },
    {
      "cell_type": "code",
      "execution_count": null,
      "metadata": {
        "id": "RBc0ji0CPrBv"
      },
      "outputs": [],
      "source": []
    },
    {
      "cell_type": "markdown",
      "metadata": {
        "id": "zuHsWKaOStkH"
      },
      "source": []
    }
  ],
  "metadata": {
    "accelerator": "GPU",
    "colab": {
      "gpuType": "T4",
      "provenance": []
    },
    "kernelspec": {
      "display_name": "Python 3",
      "name": "python3"
    },
    "language_info": {
      "name": "python"
    }
  },
  "nbformat": 4,
  "nbformat_minor": 0
}